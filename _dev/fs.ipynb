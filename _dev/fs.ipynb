{
 "cells": [
  {
   "cell_type": "markdown",
   "metadata": {},
   "source": [
    "# File System Helper\n",
    "\n",
    "> Function to Read & write File"
   ]
  },
  {
   "cell_type": "code",
   "execution_count": 1,
   "metadata": {},
   "outputs": [],
   "source": [
    "import os\n",
    "from pathlib import Path\n",
    "\n",
    "import sys\n",
    "import os\n",
    "sys.path.append(os.path.abspath('..')) \n",
    "\n",
    "import lb"
   ]
  },
  {
   "cell_type": "markdown",
   "metadata": {},
   "source": [
    "## Tester"
   ]
  },
  {
   "cell_type": "code",
   "execution_count": 5,
   "metadata": {},
   "outputs": [
    {
     "data": {
      "text/plain": [
       "[PosixPath('hello.py'),\n",
       " PosixPath('snippets.md'),\n",
       " PosixPath('hello.ipynb'),\n",
       " PosixPath('fs.ipynb'),\n",
       " PosixPath('tester.ipynb')]"
      ]
     },
     "execution_count": 5,
     "metadata": {},
     "output_type": "execute_result"
    }
   ],
   "source": [
    "lb.list_dir()"
   ]
  },
  {
   "cell_type": "markdown",
   "metadata": {},
   "source": [
    "## List Dir"
   ]
  },
  {
   "cell_type": "code",
   "execution_count": null,
   "metadata": {},
   "outputs": [],
   "source": [
    "def list_dir(directory, pattern: str = \"\", recursive = True) -> list[Path]:\n",
    "    path = Path(directory)\n",
    "    if recursive:\n",
    "        return list(path.rglob(pattern))\n",
    "    else:\n",
    "        return list(path.glob(pattern))\n"
   ]
  },
  {
   "cell_type": "markdown",
   "metadata": {},
   "source": [
    "## Read Text Dir"
   ]
  },
  {
   "cell_type": "code",
   "execution_count": null,
   "metadata": {},
   "outputs": [],
   "source": [
    "def read_text_dir(dir_path):\n",
    "    dir_path = Path(dir_path)\n",
    "\n",
    "    # Validate that the path exists and is a directory\n",
    "    if not dir_path.exists():\n",
    "        raise FileNotFoundError(f\"The directory '{dir_path}' does not exist.\")\n",
    "    if not dir_path.is_dir():\n",
    "        raise NotADirectoryError(f\"The path '{dir_path}' is not a directory.\")\n",
    "\n",
    "    # Get the list of files in the directory\n",
    "    file_ls = os.listdir(dir_path)\n",
    "\n",
    "    # Construct full file paths\n",
    "    path_ls = [dir_path / file for file in file_ls]\n",
    "\n",
    "    # Read contents of each file, with error handling\n",
    "    content_dict = {}\n",
    "    for file, path in zip(file_ls, path_ls):\n",
    "        try:\n",
    "            content_dict[file] = read_text_file(path)\n",
    "        except Exception as e:\n",
    "            print(f\"Error reading file '{file}': {e}\")\n",
    "            continue\n",
    "    # Sort the dictionary by keys\n",
    "    sorted_content_dict = dict(sorted(content_dict.items()))\n",
    "    return sorted_content_dict\n"
   ]
  },
  {
   "cell_type": "markdown",
   "metadata": {},
   "source": [
    "## Read Text File"
   ]
  },
  {
   "cell_type": "code",
   "execution_count": null,
   "metadata": {},
   "outputs": [],
   "source": [
    "def read_text_file(file_path):    \n",
    "    file_path = Path(file_path)\n",
    "    try:\n",
    "        # Open the text file in read mode\n",
    "        with open(file_path, 'r', encoding='utf-8') as file:\n",
    "            # Read the entire file content into a string\n",
    "            text_content = file.read()\n",
    "            return text_content\n",
    "    except FileNotFoundError:\n",
    "        print(f\"The file {file_path} was not found.\")\n",
    "    except Exception as e:\n",
    "        print(f\"An error occurred: {e}\")"
   ]
  },
  {
   "cell_type": "markdown",
   "metadata": {},
   "source": [
    "## Write Text File"
   ]
  },
  {
   "cell_type": "code",
   "execution_count": null,
   "metadata": {},
   "outputs": [],
   "source": [
    "def write_text_file(text, file_path):    \n",
    "    file_path = Path(file_path)\n",
    "    try:\n",
    "        # Open the text file in write mode\n",
    "        with open(file_path, 'w', encoding='utf-8') as file:\n",
    "            # Write the string of text to the file\n",
    "            file.write(text)\n",
    "        print(f\"Text successfully written to {file_path}.\")\n",
    "    except Exception as e:\n",
    "        print(f\"An error occurred: {e}\")\n"
   ]
  }
 ],
 "metadata": {
  "kernelspec": {
   "display_name": "base",
   "language": "python",
   "name": "python3"
  },
  "language_info": {
   "codemirror_mode": {
    "name": "ipython",
    "version": 3
   },
   "file_extension": ".py",
   "mimetype": "text/x-python",
   "name": "python",
   "nbconvert_exporter": "python",
   "pygments_lexer": "ipython3",
   "version": "3.12.2"
  }
 },
 "nbformat": 4,
 "nbformat_minor": 4
}
