{
 "cells": [
  {
   "cell_type": "markdown",
   "metadata": {},
   "source": [
    "# Extract: Tags"
   ]
  },
  {
   "cell_type": "code",
   "execution_count": 4,
   "metadata": {},
   "outputs": [],
   "source": [
    "import sys\n",
    "from pathlib import Path\n",
    "import re\n",
    "sys.path.insert(1, str(Path.cwd().parent)) \n",
    "\n",
    "from lb.core.xml import extract_from_tags\n"
   ]
  },
  {
   "cell_type": "markdown",
   "metadata": {},
   "source": [
    "## Extract XML Tags"
   ]
  },
  {
   "cell_type": "code",
   "execution_count": null,
   "metadata": {},
   "outputs": [],
   "source": [
    "def extract_from_tags(string: str, \n",
    "                      tags: str,\n",
    "                      verbose: bool = True,\n",
    "                      ):  \n",
    "    \"\"\"Extract content inside XML tags\"\"\"\n",
    "     # Use regular expressions to find content between tags\n",
    "    import re\n",
    "    match = re.search(rf'<{tags}>\\s*(.*?)\\s*</{tags}>', string, re.DOTALL)\n",
    "    if not match:\n",
    "        if verbose:\n",
    "            print(f\"No <{tags}> tags found in the input string.\")\n",
    "        return\n",
    "\n",
    "    # Return the first match string\n",
    "    return  match.group(1)"
   ]
  },
  {
   "cell_type": "markdown",
   "metadata": {},
   "source": [
    "## Extract Code Block"
   ]
  },
  {
   "cell_type": "code",
   "execution_count": 40,
   "metadata": {},
   "outputs": [],
   "source": [
    "def extract_from_codeblock(\n",
    "    string: str,\n",
    "    language: str = \"\",\n",
    "    verbose: bool = True,\n",
    "):\n",
    "    \"\"\"Extract content inside code block\"\"\"\n",
    "    # Use regular expressions to find content between codeblock\n",
    "    import re\n",
    "\n",
    "    match = re.search(rf\"```{language}\\s*(.*?)\\s```\", string, re.DOTALL)\n",
    "    if not match:\n",
    "        if verbose:\n",
    "            print(f\"No '{language}' code block found in the input string.\")\n",
    "        return\n",
    "\n",
    "    # Return the first match string\n",
    "    return match.group(1)\n"
   ]
  },
  {
   "cell_type": "code",
   "execution_count": 41,
   "metadata": {},
   "outputs": [],
   "source": [
    "ex_cb = \"\"\"\n",
    "```\n",
    "Hello World\n",
    "```\n",
    "\"\"\" \n",
    "\n",
    "ex_cb2 = \"\"\"\n",
    "```json\n",
    "Hello World\n",
    "```\n",
    "\"\"\" "
   ]
  },
  {
   "cell_type": "code",
   "execution_count": 43,
   "metadata": {},
   "outputs": [
    {
     "name": "stdout",
     "output_type": "stream",
     "text": [
      "No 'json' code block found in the input string.\n"
     ]
    }
   ],
   "source": [
    "extract_from_codeblock(ex_cb, \"json\", True)"
   ]
  },
  {
   "cell_type": "code",
   "execution_count": 8,
   "metadata": {},
   "outputs": [
    {
     "data": {
      "text/plain": [
       "'Hello World'"
      ]
     },
     "execution_count": 8,
     "metadata": {},
     "output_type": "execute_result"
    }
   ],
   "source": [
    "re.search(r\"```\\s*(.*?)\\s```\", ex_cb, re.DOTALL).group(1)"
   ]
  }
 ],
 "metadata": {
  "kernelspec": {
   "display_name": "base",
   "language": "python",
   "name": "python3"
  },
  "language_info": {
   "codemirror_mode": {
    "name": "ipython",
    "version": 3
   },
   "file_extension": ".py",
   "mimetype": "text/x-python",
   "name": "python",
   "nbconvert_exporter": "python",
   "pygments_lexer": "ipython3",
   "version": "3.12.8"
  }
 },
 "nbformat": 4,
 "nbformat_minor": 2
}
